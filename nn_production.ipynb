{
 "cells": [
  {
   "cell_type": "code",
   "execution_count": 1,
   "metadata": {
    "collapsed": true
   },
   "outputs": [],
   "source": [
    "from sklearn.neural_network import MLPRegressor\n",
    "import csv\n",
    "import numpy\n",
    "from sklearn.model_selection import train_test_split\n",
    "from sklearn.model_selection import cross_val_score\n",
    "from sklearn.metrics import mean_squared_error\n",
    "from sklearn.metrics import median_absolute_error\n",
    "from math import sqrt\n",
    "import scipy.io as sio"
   ]
  },
  {
   "cell_type": "code",
   "execution_count": null,
   "metadata": {
    "collapsed": true
   },
   "outputs": [],
   "source": [
    "# Fit the closure for the couplings  "
   ]
  },
  {
   "cell_type": "code",
   "execution_count": 3,
   "metadata": {
    "collapsed": false
   },
   "outputs": [],
   "source": [
    "# input_Jo.csv: matrix of inputs to the function F defined in the paper, where each row is [-inv(C)_ij, C_{ij}, <s_i>, <s_j>] \n",
    "with open('input_Jo.csv','rU') as f: \n",
    "    re= csv.reader(f,dialect=csv.excel_tab,delimiter=\",\")\n",
    "    inputJ = list(re)\n",
    "\n",
    "# Jo.csv: a vector with the ground truth J_ij value\n",
    "with open('Jo.csv','rU') as f: \n",
    "    re= csv.reader(f,dialect=csv.excel_tab,delimiter=\",\")\n",
    "    JJ = list(re)\n",
    "inputJ = numpy.array(inputJ).astype(\"float\")\n",
    "JJ = numpy.array(JJ).astype(\"float\")"
   ]
  },
  {
   "cell_type": "code",
   "execution_count": 6,
   "metadata": {
    "collapsed": false
   },
   "outputs": [
    {
     "data": {
      "text/plain": [
       "0.73992962296637366"
      ]
     },
     "execution_count": 6,
     "metadata": {},
     "output_type": "execute_result"
    }
   ],
   "source": [
    "X_train, X_test, y_train, y_test = train_test_split(inputJ,JJ.ravel(), test_size=0.05, random_state=0)\n",
    "clf = MLPRegressor(solver='lbfgs',hidden_layer_sizes=(9,7,5,),alpha=20,max_iter=500000)\n",
    "clf.fit(X_train,y_train.ravel())\n",
    "clf.score(X_test,y_test)"
   ]
  },
  {
   "cell_type": "code",
   "execution_count": 147,
   "metadata": {
    "collapsed": false
   },
   "outputs": [],
   "source": [
    "# Fit the closure for the fields  "
   ]
  },
  {
   "cell_type": "code",
   "execution_count": 5,
   "metadata": {
    "collapsed": false
   },
   "outputs": [],
   "source": [
    "# input_ho.csv: matrix of inputs to the function G defined in the paper, where each row is the vector [atanh(<s_i>), C_{ii}, sum_{j \\neq i} J_ij <s_j>, sum_{j \\neq i} C_ij <s_j>] \n",
    "with open('input_ho.csv','rU') as f:\n",
    "    re= csv.reader(f,dialect=csv.excel_tab,delimiter=\",\")\n",
    "    inputh = list(re)\n",
    "    \n",
    "# ho.csv: a vector with the ground truth h_i value\n",
    "with open('ho.csv','rU') as f: \n",
    "    re= csv.reader(f,dialect=csv.excel_tab,delimiter=\",\")\n",
    "    hh = list(re)\n",
    "inputh = numpy.array(inputh).astype(\"float\")\n",
    "hh = numpy.array(hh).astype(\"float\")\n",
    "hh = hh[numpy.isfinite(inputh).all(axis=1)]\n",
    "inputh = inputh[numpy.isfinite(inputh).all(axis=1)]"
   ]
  },
  {
   "cell_type": "code",
   "execution_count": 9,
   "metadata": {
    "collapsed": false
   },
   "outputs": [
    {
     "data": {
      "text/plain": [
       "0.88039216133486464"
      ]
     },
     "execution_count": 9,
     "metadata": {},
     "output_type": "execute_result"
    }
   ],
   "source": [
    "X_train, X_test, y_train, y_test = train_test_split(inputh, hh, test_size=0.2, random_state=0)\n",
    "clf1 = MLPRegressor(solver='lbfgs',hidden_layer_sizes=(2,2,),activation='tanh',alpha=40)\n",
    "clf1.fit(X_train,y_train.ravel())\n",
    "clf1.score(X_test,y_test)"
   ]
  }
 ],
 "metadata": {
  "kernelspec": {
   "display_name": "Python 2",
   "language": "python",
   "name": "python2"
  },
  "language_info": {
   "codemirror_mode": {
    "name": "ipython",
    "version": 2
   },
   "file_extension": ".py",
   "mimetype": "text/x-python",
   "name": "python",
   "nbconvert_exporter": "python",
   "pygments_lexer": "ipython2",
   "version": "2.7.11"
  }
 },
 "nbformat": 4,
 "nbformat_minor": 0
}
